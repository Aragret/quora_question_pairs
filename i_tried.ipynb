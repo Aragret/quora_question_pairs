{
 "cells": [
  {
   "cell_type": "code",
   "execution_count": 4,
   "metadata": {
    "collapsed": false
   },
   "outputs": [],
   "source": [
    "import numpy as np\n",
    "import pandas as pd"
   ]
  },
  {
   "cell_type": "code",
   "execution_count": 7,
   "metadata": {
    "collapsed": false
   },
   "outputs": [],
   "source": [
    "import xgboost as xgb"
   ]
  },
  {
   "cell_type": "code",
   "execution_count": 9,
   "metadata": {
    "collapsed": false
   },
   "outputs": [
    {
     "name": "stdout",
     "output_type": "stream",
     "text": [
      "id               int64\n",
      "is_duplicate     int64\n",
      "qid1             int64\n",
      "qid2             int64\n",
      "question1       object\n",
      "question2       object\n",
      "test_id          int64\n",
      "dtype: object\n"
     ]
    }
   ],
   "source": [
    "df_train = pd.read_csv('./train.csv', \n",
    "                       dtype={\n",
    "                           'question1': np.str,\n",
    "                           'question2': np.str\n",
    "                       })\n",
    "df_train['test_id'] = -1\n",
    "df_test = pd.read_csv('./test.csv', \n",
    "                      dtype={\n",
    "                          'question1': np.str,\n",
    "                          'question2': np.str\n",
    "                      })\n",
    "df_test['id'] = -1\n",
    "df_test['qid1'] = -1\n",
    "df_test['qid2'] = -1\n",
    "df_test['is_duplicate'] = -1\n",
    "\n",
    "df = pd.concat([df_train, df_test])\n",
    "df['question1'] = df['question1'].fillna('')\n",
    "df['question2'] = df['question2'].fillna('')\n",
    "df['uid'] = np.arange(df.shape[0])\n",
    "df = df.set_index(['uid'])\n",
    "print (df.dtypes)\n",
    "del(df_train, df_test)"
   ]
  },
  {
   "cell_type": "code",
   "execution_count": 10,
   "metadata": {
    "collapsed": true
   },
   "outputs": [],
   "source": [
    "df['len1'] = df['question1'].str.len()\n",
    "df['len2'] = df['question2'].str.len()"
   ]
  },
  {
   "cell_type": "code",
   "execution_count": 11,
   "metadata": {
    "collapsed": true
   },
   "outputs": [],
   "source": [
    "df['is_first_word_equal'] = df.apply(\n",
    "    lambda r: int(r['question1'].split(' ')[0] == r['question2'].split(' ')[0]), axis=1)"
   ]
  },
  {
   "cell_type": "code",
   "execution_count": 12,
   "metadata": {
    "collapsed": true
   },
   "outputs": [],
   "source": [
    "df['abs_diff_len1_len2'] = np.abs(df['len1'] - df['len2'])"
   ]
  },
  {
   "cell_type": "code",
   "execution_count": 6,
   "metadata": {
    "collapsed": true
   },
   "outputs": [],
   "source": [
    "ix_train = df['is_duplicate'] != -1\n",
    "ix_test = df['is_duplicate'] == -1"
   ]
  },
  {
   "cell_type": "code",
   "execution_count": null,
   "metadata": {
    "collapsed": true
   },
   "outputs": [],
   "source": [
    "from sklearn.tree import DecisionTreeClassifier"
   ]
  },
  {
   "cell_type": "code",
   "execution_count": 7,
   "metadata": {
    "collapsed": false
   },
   "outputs": [
    {
     "ename": "NameError",
     "evalue": "name 'tree' is not defined",
     "output_type": "error",
     "traceback": [
      "\u001b[0;31m---------------------------------------------------------------------------\u001b[0m",
      "\u001b[0;31mNameError\u001b[0m                                 Traceback (most recent call last)",
      "\u001b[0;32m<ipython-input-7-89ee4c9d0044>\u001b[0m in \u001b[0;36m<module>\u001b[0;34m()\u001b[0m\n\u001b[1;32m      4\u001b[0m 'max_features': range(1,5)}\n\u001b[1;32m      5\u001b[0m \u001b[1;33m\u001b[0m\u001b[0m\n\u001b[0;32m----> 6\u001b[0;31m tree_grid = GridSearchCV(tree, tree_params,\n\u001b[0m\u001b[1;32m      7\u001b[0m \u001b[0mcv\u001b[0m\u001b[1;33m=\u001b[0m\u001b[1;36m5\u001b[0m\u001b[1;33m,\u001b[0m \u001b[0mn_jobs\u001b[0m\u001b[1;33m=\u001b[0m\u001b[1;33m-\u001b[0m\u001b[1;36m1\u001b[0m\u001b[1;33m,\u001b[0m\u001b[1;33m\u001b[0m\u001b[0m\n\u001b[1;32m      8\u001b[0m verbose=True)\n",
      "\u001b[0;31mNameError\u001b[0m: name 'tree' is not defined"
     ]
    }
   ],
   "source": [
    "from sklearn.model_selection import GridSearchCV, cross_val_score\n",
    "\n",
    "tree_params = {'max_depth': range(2,10),\n",
    "'max_features': range(1,5)}\n",
    "\n",
    "tree_grid = GridSearchCV(tree, tree_params,\n",
    "cv=5, n_jobs=-1,\n",
    "verbose=True)\n",
    "\n",
    "tree_grid.fit(df[features][ix_train], df['is_duplicate'][ix_train])"
   ]
  },
  {
   "cell_type": "code",
   "execution_count": 10,
   "metadata": {
    "collapsed": true
   },
   "outputs": [],
   "source": [
    "features = ['len1', 'len2', 'is_first_word_equal', 'abs_diff_len1_len2']"
   ]
  },
  {
   "cell_type": "code",
   "execution_count": 11,
   "metadata": {
    "collapsed": false
   },
   "outputs": [
    {
     "name": "stdout",
     "output_type": "stream",
     "text": [
      "Fitting 5 folds for each of 24 candidates, totalling 120 fits\n"
     ]
    },
    {
     "name": "stderr",
     "output_type": "stream",
     "text": [
      "[Parallel(n_jobs=-1)]: Done  42 tasks      | elapsed:  2.2min\n",
      "[Parallel(n_jobs=-1)]: Done 120 out of 120 | elapsed:  8.4min finished\n"
     ]
    }
   ],
   "source": [
    "from sklearn.ensemble import RandomForestClassifier\n",
    "\n",
    "forest_params = {'max_depth': range(1,9),\n",
    "'max_features': range(2,5)}\n",
    "\n",
    "forest = RandomForestClassifier(n_estimators=20, n_jobs=-1, random_state=17)\n",
    "forest_grid = GridSearchCV(forest, forest_params,\n",
    "cv=5, n_jobs=-1,\n",
    "verbose=True)\n",
    "\n",
    "model = forest_grid.fit(df[features][ix_train], df['is_duplicate'][ix_train])"
   ]
  },
  {
   "cell_type": "code",
   "execution_count": 12,
   "metadata": {
    "collapsed": false
   },
   "outputs": [
    {
     "data": {
      "text/plain": [
       "{'max_depth': 8, 'max_features': 4}"
      ]
     },
     "execution_count": 12,
     "metadata": {},
     "output_type": "execute_result"
    }
   ],
   "source": [
    "forest_grid.best_params_"
   ]
  },
  {
   "cell_type": "code",
   "execution_count": 13,
   "metadata": {
    "collapsed": true
   },
   "outputs": [],
   "source": [
    "from sklearn.ensemble import RandomForestClassifier\n",
    "\n",
    "forest = RandomForestClassifier(max_depth=8, max_features=4, n_estimators=24, random_state=17)\n",
    "model = forest.fit(df[features][ix_train], df['is_duplicate'][ix_train])"
   ]
  },
  {
   "cell_type": "code",
   "execution_count": 15,
   "metadata": {
    "collapsed": false
   },
   "outputs": [
    {
     "data": {
      "text/plain": [
       "array([ 0.12936173,  0.14048305,  0.39143388,  0.33872133])"
      ]
     },
     "execution_count": 15,
     "metadata": {},
     "output_type": "execute_result"
    }
   ],
   "source": [
    "model.feature_importances_"
   ]
  },
  {
   "cell_type": "code",
   "execution_count": 16,
   "metadata": {
    "collapsed": true
   },
   "outputs": [],
   "source": [
    "prediction = model.predict_proba(df[features][ix_test])[:, 1]"
   ]
  },
  {
   "cell_type": "code",
   "execution_count": 17,
   "metadata": {
    "collapsed": false
   },
   "outputs": [
    {
     "data": {
      "text/plain": [
       "array([ 0.29610066,  0.26117698,  0.41353768, ...,  0.27645182,\n",
       "        0.36642456,  0.29286985])"
      ]
     },
     "execution_count": 17,
     "metadata": {},
     "output_type": "execute_result"
    }
   ],
   "source": [
    "prediction"
   ]
  },
  {
   "cell_type": "code",
   "execution_count": 18,
   "metadata": {
    "collapsed": false
   },
   "outputs": [
    {
     "name": "stdout",
     "output_type": "stream",
     "text": [
      "(2345796,)\n"
     ]
    }
   ],
   "source": [
    "print (prediction.shape)"
   ]
  },
  {
   "cell_type": "code",
   "execution_count": 19,
   "metadata": {
    "collapsed": true
   },
   "outputs": [],
   "source": [
    "df_submit = df.loc[ix_test].copy()\n",
    "df_submit['is_duplicate'] = prediction\n",
    "df_submit[['test_id', 'is_duplicate']].to_csv('../submit.csv', index=False)"
   ]
  },
  {
   "cell_type": "code",
   "execution_count": 79,
   "metadata": {
    "collapsed": false
   },
   "outputs": [],
   "source": [
    "from textblob import TextBlob\n",
    "from textblob import Word"
   ]
  },
  {
   "cell_type": "code",
   "execution_count": 22,
   "metadata": {
    "collapsed": true
   },
   "outputs": [],
   "source": [
    "import nltk"
   ]
  },
  {
   "cell_type": "code",
   "execution_count": 120,
   "metadata": {
    "collapsed": true
   },
   "outputs": [],
   "source": [
    "def remove_stopwodrs(text):\n",
    "    stopwords = nltk.corpus.stopwords.words('english')\n",
    "    content = [w for w in TextBlob(text).words if w.lower() not in stopwords]\n",
    "    return content"
   ]
  },
  {
   "cell_type": "code",
   "execution_count": 123,
   "metadata": {
    "collapsed": false
   },
   "outputs": [],
   "source": [
    "df['unique_words_number'] = df.apply(\n",
    "    lambda r: len(set(remove_stopwodrs(r['question1']) + remove_stopwodrs(r['question2']))), axis = 1)"
   ]
  },
  {
   "cell_type": "code",
   "execution_count": null,
   "metadata": {
    "collapsed": false
   },
   "outputs": [],
   "source": [
    "# разделить unique_words_number на количество слов\n",
    "# искать общие синонимы (пересечение множест?), делить на длину\n",
    "# посмотреть отдельно общие глаголы и существительные, относительно кол-ва слов, глянуть на значимость"
   ]
  },
  {
   "cell_type": "code",
   "execution_count": 124,
   "metadata": {
    "collapsed": true
   },
   "outputs": [],
   "source": [
    "df['unique_words_density'] = df.apply(\n",
    "    lambda r: r['unique_words_number'] / (r['len1'] + r['len2']), axis = 1)"
   ]
  },
  {
   "cell_type": "code",
   "execution_count": 125,
   "metadata": {
    "collapsed": false
   },
   "outputs": [
    {
     "data": {
      "text/html": [
       "<div>\n",
       "<table border=\"1\" class=\"dataframe\">\n",
       "  <thead>\n",
       "    <tr style=\"text-align: right;\">\n",
       "      <th></th>\n",
       "      <th>id</th>\n",
       "      <th>is_duplicate</th>\n",
       "      <th>qid1</th>\n",
       "      <th>qid2</th>\n",
       "      <th>question1</th>\n",
       "      <th>question2</th>\n",
       "      <th>test_id</th>\n",
       "      <th>len1</th>\n",
       "      <th>len2</th>\n",
       "      <th>is_first_word_equal</th>\n",
       "      <th>abs_diff_len1_len2</th>\n",
       "      <th>equal_words_number</th>\n",
       "      <th>unique_words_number</th>\n",
       "      <th>unique_words_density</th>\n",
       "    </tr>\n",
       "    <tr>\n",
       "      <th>uid</th>\n",
       "      <th></th>\n",
       "      <th></th>\n",
       "      <th></th>\n",
       "      <th></th>\n",
       "      <th></th>\n",
       "      <th></th>\n",
       "      <th></th>\n",
       "      <th></th>\n",
       "      <th></th>\n",
       "      <th></th>\n",
       "      <th></th>\n",
       "      <th></th>\n",
       "      <th></th>\n",
       "      <th></th>\n",
       "    </tr>\n",
       "  </thead>\n",
       "  <tbody>\n",
       "    <tr>\n",
       "      <th>0</th>\n",
       "      <td>0</td>\n",
       "      <td>0</td>\n",
       "      <td>1</td>\n",
       "      <td>2</td>\n",
       "      <td>What is the step by step guide to invest in sh...</td>\n",
       "      <td>What is the step by step guide to invest in sh...</td>\n",
       "      <td>-1</td>\n",
       "      <td>66</td>\n",
       "      <td>57</td>\n",
       "      <td>1</td>\n",
       "      <td>9</td>\n",
       "      <td>13</td>\n",
       "      <td>6</td>\n",
       "      <td>0.048780</td>\n",
       "    </tr>\n",
       "    <tr>\n",
       "      <th>1</th>\n",
       "      <td>1</td>\n",
       "      <td>0</td>\n",
       "      <td>3</td>\n",
       "      <td>4</td>\n",
       "      <td>What is the story of Kohinoor (Koh-i-Noor) Dia...</td>\n",
       "      <td>What would happen if the Indian government sto...</td>\n",
       "      <td>-1</td>\n",
       "      <td>51</td>\n",
       "      <td>88</td>\n",
       "      <td>1</td>\n",
       "      <td>37</td>\n",
       "      <td>16</td>\n",
       "      <td>11</td>\n",
       "      <td>0.079137</td>\n",
       "    </tr>\n",
       "    <tr>\n",
       "      <th>2</th>\n",
       "      <td>2</td>\n",
       "      <td>0</td>\n",
       "      <td>5</td>\n",
       "      <td>6</td>\n",
       "      <td>How can I increase the speed of my internet co...</td>\n",
       "      <td>How can Internet speed be increased by hacking...</td>\n",
       "      <td>-1</td>\n",
       "      <td>73</td>\n",
       "      <td>59</td>\n",
       "      <td>1</td>\n",
       "      <td>14</td>\n",
       "      <td>21</td>\n",
       "      <td>10</td>\n",
       "      <td>0.075758</td>\n",
       "    </tr>\n",
       "    <tr>\n",
       "      <th>3</th>\n",
       "      <td>3</td>\n",
       "      <td>0</td>\n",
       "      <td>7</td>\n",
       "      <td>8</td>\n",
       "      <td>Why am I mentally very lonely? How can I solve...</td>\n",
       "      <td>Find the remainder when [math]23^{24}[/math] i...</td>\n",
       "      <td>-1</td>\n",
       "      <td>50</td>\n",
       "      <td>65</td>\n",
       "      <td>0</td>\n",
       "      <td>15</td>\n",
       "      <td>19</td>\n",
       "      <td>10</td>\n",
       "      <td>0.086957</td>\n",
       "    </tr>\n",
       "    <tr>\n",
       "      <th>4</th>\n",
       "      <td>4</td>\n",
       "      <td>0</td>\n",
       "      <td>9</td>\n",
       "      <td>10</td>\n",
       "      <td>Which one dissolve in water quikly sugar, salt...</td>\n",
       "      <td>Which fish would survive in salt water?</td>\n",
       "      <td>-1</td>\n",
       "      <td>76</td>\n",
       "      <td>39</td>\n",
       "      <td>1</td>\n",
       "      <td>37</td>\n",
       "      <td>18</td>\n",
       "      <td>13</td>\n",
       "      <td>0.113043</td>\n",
       "    </tr>\n",
       "  </tbody>\n",
       "</table>\n",
       "</div>"
      ],
      "text/plain": [
       "     id  is_duplicate  qid1  qid2  \\\n",
       "uid                                 \n",
       "0     0             0     1     2   \n",
       "1     1             0     3     4   \n",
       "2     2             0     5     6   \n",
       "3     3             0     7     8   \n",
       "4     4             0     9    10   \n",
       "\n",
       "                                             question1  \\\n",
       "uid                                                      \n",
       "0    What is the step by step guide to invest in sh...   \n",
       "1    What is the story of Kohinoor (Koh-i-Noor) Dia...   \n",
       "2    How can I increase the speed of my internet co...   \n",
       "3    Why am I mentally very lonely? How can I solve...   \n",
       "4    Which one dissolve in water quikly sugar, salt...   \n",
       "\n",
       "                                             question2  test_id  len1  len2  \\\n",
       "uid                                                                           \n",
       "0    What is the step by step guide to invest in sh...       -1    66    57   \n",
       "1    What would happen if the Indian government sto...       -1    51    88   \n",
       "2    How can Internet speed be increased by hacking...       -1    73    59   \n",
       "3    Find the remainder when [math]23^{24}[/math] i...       -1    50    65   \n",
       "4              Which fish would survive in salt water?       -1    76    39   \n",
       "\n",
       "     is_first_word_equal  abs_diff_len1_len2  equal_words_number  \\\n",
       "uid                                                                \n",
       "0                      1                   9                  13   \n",
       "1                      1                  37                  16   \n",
       "2                      1                  14                  21   \n",
       "3                      0                  15                  19   \n",
       "4                      1                  37                  18   \n",
       "\n",
       "     unique_words_number  unique_words_density  \n",
       "uid                                             \n",
       "0                      6              0.048780  \n",
       "1                     11              0.079137  \n",
       "2                     10              0.075758  \n",
       "3                     10              0.086957  \n",
       "4                     13              0.113043  "
      ]
     },
     "execution_count": 125,
     "metadata": {},
     "output_type": "execute_result"
    }
   ],
   "source": [
    "df.head()"
   ]
  },
  {
   "cell_type": "code",
   "execution_count": 126,
   "metadata": {
    "collapsed": false
   },
   "outputs": [],
   "source": [
    "def syn_words(text):\n",
    "    syns = []\n",
    "    stopwords = nltk.corpus.stopwords.words('english')\n",
    "    content = [w for w in TextBlob(text).words if w.lower() not in stopwords]\n",
    "    for x in content:\n",
    "        for synset in Word(x).synsets:\n",
    "            syns.append(synset.name().split('.')[0])\n",
    "    return syns"
   ]
  },
  {
   "cell_type": "code",
   "execution_count": 119,
   "metadata": {
    "collapsed": false
   },
   "outputs": [
    {
     "name": "stdout",
     "output_type": "stream",
     "text": [
      "Wall time: 0 ns\n"
     ]
    },
    {
     "data": {
      "text/plain": [
       "['ma',\n",
       " 'younger',\n",
       " 'young',\n",
       " 'new',\n",
       " 'youthful',\n",
       " 'young',\n",
       " 'unseasoned',\n",
       " 'always',\n",
       " 'constantly',\n",
       " 'constantly',\n",
       " 'always',\n",
       " 'always',\n",
       " 'expression',\n",
       " 'look',\n",
       " 'look',\n",
       " 'spirit',\n",
       " 'look',\n",
       " 'look',\n",
       " 'look',\n",
       " 'search',\n",
       " 'front',\n",
       " 'attend',\n",
       " 'look',\n",
       " 'expect',\n",
       " 'look',\n",
       " 'count']"
      ]
     },
     "execution_count": 119,
     "metadata": {},
     "output_type": "execute_result"
    }
   ],
   "source": [
    "%%time\n",
    "syn_words('My mom is younger than yours, but she always looks beatyful')"
   ]
  },
  {
   "cell_type": "code",
   "execution_count": 127,
   "metadata": {
    "collapsed": false
   },
   "outputs": [
    {
     "name": "stdout",
     "output_type": "stream",
     "text": [
      "Wall time: 15h 59min 27s\n"
     ]
    }
   ],
   "source": [
    "%%time\n",
    "df['unique_syn'] = df.apply(\n",
    "    lambda r: len(set(syn_words(r['question1'])).intersection(set(syn_words(r['question1'])))) / (r['len1'] + r['len2']), axis = 1)"
   ]
  },
  {
   "cell_type": "code",
   "execution_count": 128,
   "metadata": {
    "collapsed": false
   },
   "outputs": [],
   "source": [
    "ix_train = df['is_duplicate'] != -1\n",
    "ix_test = df['is_duplicate'] == -1\n",
    "features = ['len1', 'len2', 'is_first_word_equal', 'abs_diff_len1_len2', 'unique_words_density', 'unique_syn']"
   ]
  },
  {
   "cell_type": "code",
   "execution_count": 135,
   "metadata": {
    "collapsed": true
   },
   "outputs": [],
   "source": [
    "from sklearn.ensemble import RandomForestClassifier\n",
    "\n",
    "rf = RandomForestClassifier(n_jobs=-1, random_state=42, max_depth=10, max_features=1.0, n_estimators=24)\n",
    "model = rf.fit(df[features][ix_train], df['is_duplicate'][ix_train])"
   ]
  },
  {
   "cell_type": "code",
   "execution_count": 136,
   "metadata": {
    "collapsed": true
   },
   "outputs": [],
   "source": [
    "prediction = model.predict_proba(df[features][ix_test])[:, 1]"
   ]
  },
  {
   "cell_type": "code",
   "execution_count": 137,
   "metadata": {
    "collapsed": true
   },
   "outputs": [],
   "source": [
    "df_submit = df.loc[ix_test].copy()\n",
    "df_submit['is_duplicate'] = prediction\n",
    "df_submit[['test_id', 'is_duplicate']].to_csv('submit.csv', index=False)"
   ]
  },
  {
   "cell_type": "code",
   "execution_count": 133,
   "metadata": {
    "collapsed": false
   },
   "outputs": [
    {
     "data": {
      "text/html": [
       "<div>\n",
       "<table border=\"1\" class=\"dataframe\">\n",
       "  <thead>\n",
       "    <tr style=\"text-align: right;\">\n",
       "      <th></th>\n",
       "      <th>id</th>\n",
       "      <th>is_duplicate</th>\n",
       "      <th>qid1</th>\n",
       "      <th>qid2</th>\n",
       "      <th>question1</th>\n",
       "      <th>question2</th>\n",
       "      <th>test_id</th>\n",
       "      <th>len1</th>\n",
       "      <th>len2</th>\n",
       "      <th>is_first_word_equal</th>\n",
       "      <th>abs_diff_len1_len2</th>\n",
       "      <th>equal_words_number</th>\n",
       "      <th>unique_words_number</th>\n",
       "      <th>unique_words_density</th>\n",
       "      <th>unique_syn</th>\n",
       "    </tr>\n",
       "    <tr>\n",
       "      <th>uid</th>\n",
       "      <th></th>\n",
       "      <th></th>\n",
       "      <th></th>\n",
       "      <th></th>\n",
       "      <th></th>\n",
       "      <th></th>\n",
       "      <th></th>\n",
       "      <th></th>\n",
       "      <th></th>\n",
       "      <th></th>\n",
       "      <th></th>\n",
       "      <th></th>\n",
       "      <th></th>\n",
       "      <th></th>\n",
       "      <th></th>\n",
       "    </tr>\n",
       "  </thead>\n",
       "  <tbody>\n",
       "    <tr>\n",
       "      <th>0</th>\n",
       "      <td>0</td>\n",
       "      <td>0</td>\n",
       "      <td>1</td>\n",
       "      <td>2</td>\n",
       "      <td>What is the step by step guide to invest in sh...</td>\n",
       "      <td>What is the step by step guide to invest in sh...</td>\n",
       "      <td>-1</td>\n",
       "      <td>66</td>\n",
       "      <td>57</td>\n",
       "      <td>1</td>\n",
       "      <td>9</td>\n",
       "      <td>13</td>\n",
       "      <td>6</td>\n",
       "      <td>0.048780</td>\n",
       "      <td>0.243902</td>\n",
       "    </tr>\n",
       "    <tr>\n",
       "      <th>1</th>\n",
       "      <td>1</td>\n",
       "      <td>0</td>\n",
       "      <td>3</td>\n",
       "      <td>4</td>\n",
       "      <td>What is the story of Kohinoor (Koh-i-Noor) Dia...</td>\n",
       "      <td>What would happen if the Indian government sto...</td>\n",
       "      <td>-1</td>\n",
       "      <td>51</td>\n",
       "      <td>88</td>\n",
       "      <td>1</td>\n",
       "      <td>37</td>\n",
       "      <td>16</td>\n",
       "      <td>11</td>\n",
       "      <td>0.079137</td>\n",
       "      <td>0.071942</td>\n",
       "    </tr>\n",
       "    <tr>\n",
       "      <th>2</th>\n",
       "      <td>2</td>\n",
       "      <td>0</td>\n",
       "      <td>5</td>\n",
       "      <td>6</td>\n",
       "      <td>How can I increase the speed of my internet co...</td>\n",
       "      <td>How can Internet speed be increased by hacking...</td>\n",
       "      <td>-1</td>\n",
       "      <td>73</td>\n",
       "      <td>59</td>\n",
       "      <td>1</td>\n",
       "      <td>14</td>\n",
       "      <td>21</td>\n",
       "      <td>10</td>\n",
       "      <td>0.075758</td>\n",
       "      <td>0.113636</td>\n",
       "    </tr>\n",
       "    <tr>\n",
       "      <th>3</th>\n",
       "      <td>3</td>\n",
       "      <td>0</td>\n",
       "      <td>7</td>\n",
       "      <td>8</td>\n",
       "      <td>Why am I mentally very lonely? How can I solve...</td>\n",
       "      <td>Find the remainder when [math]23^{24}[/math] i...</td>\n",
       "      <td>-1</td>\n",
       "      <td>50</td>\n",
       "      <td>65</td>\n",
       "      <td>0</td>\n",
       "      <td>15</td>\n",
       "      <td>19</td>\n",
       "      <td>10</td>\n",
       "      <td>0.086957</td>\n",
       "      <td>0.060870</td>\n",
       "    </tr>\n",
       "    <tr>\n",
       "      <th>4</th>\n",
       "      <td>4</td>\n",
       "      <td>0</td>\n",
       "      <td>9</td>\n",
       "      <td>10</td>\n",
       "      <td>Which one dissolve in water quikly sugar, salt...</td>\n",
       "      <td>Which fish would survive in salt water?</td>\n",
       "      <td>-1</td>\n",
       "      <td>76</td>\n",
       "      <td>39</td>\n",
       "      <td>1</td>\n",
       "      <td>37</td>\n",
       "      <td>18</td>\n",
       "      <td>13</td>\n",
       "      <td>0.113043</td>\n",
       "      <td>0.147826</td>\n",
       "    </tr>\n",
       "  </tbody>\n",
       "</table>\n",
       "</div>"
      ],
      "text/plain": [
       "     id  is_duplicate  qid1  qid2  \\\n",
       "uid                                 \n",
       "0     0             0     1     2   \n",
       "1     1             0     3     4   \n",
       "2     2             0     5     6   \n",
       "3     3             0     7     8   \n",
       "4     4             0     9    10   \n",
       "\n",
       "                                             question1  \\\n",
       "uid                                                      \n",
       "0    What is the step by step guide to invest in sh...   \n",
       "1    What is the story of Kohinoor (Koh-i-Noor) Dia...   \n",
       "2    How can I increase the speed of my internet co...   \n",
       "3    Why am I mentally very lonely? How can I solve...   \n",
       "4    Which one dissolve in water quikly sugar, salt...   \n",
       "\n",
       "                                             question2  test_id  len1  len2  \\\n",
       "uid                                                                           \n",
       "0    What is the step by step guide to invest in sh...       -1    66    57   \n",
       "1    What would happen if the Indian government sto...       -1    51    88   \n",
       "2    How can Internet speed be increased by hacking...       -1    73    59   \n",
       "3    Find the remainder when [math]23^{24}[/math] i...       -1    50    65   \n",
       "4              Which fish would survive in salt water?       -1    76    39   \n",
       "\n",
       "     is_first_word_equal  abs_diff_len1_len2  equal_words_number  \\\n",
       "uid                                                                \n",
       "0                      1                   9                  13   \n",
       "1                      1                  37                  16   \n",
       "2                      1                  14                  21   \n",
       "3                      0                  15                  19   \n",
       "4                      1                  37                  18   \n",
       "\n",
       "     unique_words_number  unique_words_density  unique_syn  \n",
       "uid                                                         \n",
       "0                      6              0.048780    0.243902  \n",
       "1                     11              0.079137    0.071942  \n",
       "2                     10              0.075758    0.113636  \n",
       "3                     10              0.086957    0.060870  \n",
       "4                     13              0.113043    0.147826  "
      ]
     },
     "execution_count": 133,
     "metadata": {},
     "output_type": "execute_result"
    }
   ],
   "source": [
    "df.head()"
   ]
  }
 ],
 "metadata": {
  "kernelspec": {
   "display_name": "Python 3",
   "language": "python",
   "name": "python3"
  },
  "language_info": {
   "codemirror_mode": {
    "name": "ipython",
    "version": 3
   },
   "file_extension": ".py",
   "mimetype": "text/x-python",
   "name": "python",
   "nbconvert_exporter": "python",
   "pygments_lexer": "ipython3",
   "version": "3.6.0"
  }
 },
 "nbformat": 4,
 "nbformat_minor": 2
}
